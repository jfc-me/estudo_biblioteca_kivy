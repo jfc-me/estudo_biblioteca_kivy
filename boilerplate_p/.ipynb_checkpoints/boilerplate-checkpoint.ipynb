{
 "cells": [
  {
   "cell_type": "code",
   "execution_count": 6,
   "metadata": {},
   "outputs": [],
   "source": [
    "from kivy.app import App\n",
    "from kivy.uix.button import Button\n",
    "from kivy.interactive import InteractiveLauncher\n",
    "from kivy.lang import Builder\n",
    "from kivy.config import Config\n",
    "\n",
    "Config.set(\"graphics\", \"fullscreen\",\"0\")\n",
    "\n",
    "j = None\n",
    "glayout = None"
   ]
  },
  {
   "cell_type": "code",
   "execution_count": 7,
   "metadata": {},
   "outputs": [],
   "source": [
    "class  TelaApp(App):\n",
    "    pass\n",
    "\n",
    "j = TelaApp()\n",
    "interativaT = InteractiveLauncher(j)\n",
    "interativaT.run()"
   ]
  },
  {
   "cell_type": "code",
   "execution_count": 8,
   "metadata": {},
   "outputs": [],
   "source": [
    "cod_kivy = \"\"\"   \n",
    "\n",
    "FloatLayout:\n",
    " Button:\n",
    "  size_hint: .1, .1\n",
    "  pos_hint: {\"x\": .3, \"top\": 1.}\n",
    "  text: \"start\"\n",
    "\n",
    "\"\"\"\n",
    "if j.root:\n",
    "    j.root_window.remove_widget(j.root)\n",
    "    j.root = None\n",
    "    glayout = None\n",
    "\n",
    "\n",
    "j.roo = glayout = Builder.load_string(cod_kivy)\n",
    "j.root_window.add_widget(glayout)"
   ]
  },
  {
   "cell_type": "code",
   "execution_count": null,
   "metadata": {},
   "outputs": [],
   "source": []
  },
  {
   "cell_type": "code",
   "execution_count": null,
   "metadata": {},
   "outputs": [],
   "source": []
  },
  {
   "cell_type": "code",
   "execution_count": null,
   "metadata": {},
   "outputs": [],
   "source": []
  }
 ],
 "metadata": {
  "kernelspec": {
   "display_name": "Python 3",
   "language": "python",
   "name": "python3"
  }
 },
 "nbformat": 4,
 "nbformat_minor": 2
}

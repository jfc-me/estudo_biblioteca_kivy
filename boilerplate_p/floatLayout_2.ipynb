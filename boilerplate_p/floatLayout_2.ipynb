{
 "cells": [
  {
   "cell_type": "code",
   "execution_count": null,
   "metadata": {},
   "outputs": [],
   "source": [
    "from kivy.app import App\n",
    "from kivy.uix.button import Button\n",
    "from kivy.interactive import InteractiveLauncher\n",
    "from kivy.lang import Builder\n",
    "from kivy.config import Config\n",
    "\n",
    "Config.set(\"graphics\", \"fullscreen\",\"0\")\n",
    "\n",
    "j = None\n",
    "glayout = None"
   ]
  },
  {
   "cell_type": "code",
   "execution_count": null,
   "metadata": {},
   "outputs": [],
   "source": [
    "class  TelaApp(App):\n",
    "    pass\n",
    "\n",
    "j = TelaApp()\n",
    "interativaT = InteractiveLauncher(j)\n",
    "interativaT.run()"
   ]
  },
  {
   "cell_type": "code",
   "execution_count": null,
   "metadata": {
    "scrolled": true
   },
   "outputs": [],
   "source": [
    "cod_kivy = \"\"\"   \n",
    "\n",
    "<resp@FloatLayout>:\n",
    " Button:\n",
    "  size_hint: .2, .3\n",
    "  pos_hint: {\"x\":.3, \"y\":.6}\n",
    "  text: \"xXx\"\n",
    "\n",
    "resp:\n",
    "\"\"\"\n",
    "if j.root:\n",
    "    j.root_window.remove_widget(j.root)\n",
    "    j.root = None\n",
    "    glayout = None\n",
    "\n",
    "\n",
    "j.roo = glayout = Builder.load_string(cod_kivy)\n",
    "j.root_window.add_widget(glayout)"
   ]
  },
  {
   "cell_type": "code",
   "execution_count": null,
   "metadata": {},
   "outputs": [],
   "source": []
  },
  {
   "cell_type": "code",
   "execution_count": null,
   "metadata": {},
   "outputs": [],
   "source": []
  }
 ],
 "metadata": {
  "celltoolbar": "Edit Metadata",
  "kernelspec": {
   "display_name": "Python 3",
   "language": "python",
   "name": "python3"
  },
  "language_info": {
   "codemirror_mode": {
    "name": "ipython",
    "version": 3
   },
   "file_extension": ".py",
   "mimetype": "text/x-python",
   "name": "python",
   "nbconvert_exporter": "python",
   "pygments_lexer": "ipython3",
   "version": "3.5.2"
  }
 },
 "nbformat": 4,
 "nbformat_minor": 2
}
